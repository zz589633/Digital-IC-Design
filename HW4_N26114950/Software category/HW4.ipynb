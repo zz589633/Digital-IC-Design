{
  "cells": [
    {
      "cell_type": "code",
      "execution_count": null,
      "metadata": {
        "id": "7DVSDTsqsTIA"
      },
      "outputs": [],
      "source": [
        "from PIL import Image  \n",
        "import numpy as np\n",
        "import cv2\n",
        "import torch.nn as nn\n",
        "import torch\n",
        "import torch.nn.functional as F\n",
        "import matplotlib.pyplot as plt\n",
        "import skimage.measure\n",
        "import math\n",
        "from torchvision import transforms\n",
        "\n"
      ]
    },
    {
      "cell_type": "code",
      "execution_count": null,
      "metadata": {
        "id": "mPlFuwC1tjlf"
      },
      "outputs": [],
      "source": [
        "im_gray = Image.open('./bleach.png').convert('L') # read gray scale image\n",
        "resize = transforms.Resize([64,64])\n",
        "im = resize(im_gray)\n",
        "#im = Image.open(\"resizedImg.png\")     \n",
        "img = np.array(im,dtype='float32')      # image to numpy\n"
      ]
    },
    {
      "cell_type": "code",
      "execution_count": null,
      "metadata": {
        "colab": {
          "base_uri": "https://localhost:8080/",
          "height": 560
        },
        "id": "LiZhQpuN3XCT",
        "outputId": "7f3bdd10-fb7f-4b6d-ebde-090c1e1201f5"
      },
      "outputs": [
        {
          "output_type": "stream",
          "name": "stdout",
          "text": [
            "[[  0.   7.  47. ...   0.   0.   0.]\n",
            " [  0.   0.  40. ...  32.  11.   0.]\n",
            " [  0.   0.   0. ...  11.  16.   0.]\n",
            " ...\n",
            " [  0.  19.  50. ...   0.   0.   0.]\n",
            " [  0.   0.   0. ...  46.   0.   0.]\n",
            " [  0.   0.   0. ... 130.   3.   0.]]\n"
          ]
        },
        {
          "output_type": "display_data",
          "data": {
            "text/plain": [
              "<Figure size 640x480 with 1 Axes>"
            ],
            "image/png": "[encoded data removed]"
          },
          "metadata": {}
        }
      ],
      "source": [
        "\n",
        "img_pad = np.pad(img,((2,2),(2,2)),'edge')   #padding process\n",
        "img_pad = torch.from_numpy(img_pad.reshape((1, 1, img_pad.shape[0], img_pad.shape[1]))) #padding_numpy to padding_tensor\n",
        "\n",
        "weight = torch.tensor([[-0.0625, -0.125, -0.0625], [-0.25, 1, -0.25], [-0.0625, -0.125, -0.0625]], dtype=torch.float32).unsqueeze(0).unsqueeze(0)\n",
        "bias = torch.tensor([-0.75], dtype=torch.float32)\n",
        "\n",
        "conv = torch.nn.Conv2d(in_channels=1, out_channels=1, kernel_size=3, dilation=2, stride=1, bias=True)\n",
        "conv.weight = torch.nn.Parameter(weight)\n",
        "conv.bias = torch.nn.Parameter(bias)\n",
        "\n",
        "conv_layer0 = conv(img_pad)\n",
        "conv_layer0 = F.relu(conv_layer0)\n",
        "\n",
        "conv_layer0_img = conv_layer0.data.squeeze().numpy() # tensor result to image format\n",
        "plt.imshow(conv_layer0_img, cmap='gray')\n",
        "\n",
        "conv_layer0_array_f = conv_layer0.detach().numpy()\n",
        "conv_layer0_array_f = np.reshape(conv_layer0_array_f, (64,64))\n",
        "conv_layer0_array = conv_layer0_array_f * 16\n",
        "\n",
        "output = ''\n",
        "for i in range(0, 64):\n",
        "  for j in range(0, 64):\n",
        "    data = int(conv_layer0_array[i][j])\n",
        "    output = output + str(bin(data)[2:].zfill(13)) + '\\n'\n",
        "\n",
        "print(conv_layer0_array)\n",
        "f=open(\"layer0_golden.dat\",\"w\")\n",
        "f.write(output)\n",
        "f.close()"
      ]
    },
    {
      "cell_type": "code",
      "execution_count": null,
      "metadata": {
        "id": "xs2YoQgw1HuF"
      },
      "outputs": [],
      "source": [
        "Max_pool = skimage.measure.block_reduce(conv_layer0_array_f, (2,2), np.max)\n",
        "Max_pool = np.ceil(Max_pool)\n",
        "Max_pool = Max_pool*16\n",
        "\n",
        "output2 = ''\n",
        "for i in range(0, 32):\n",
        "  for j in range(0, 32):\n",
        "    data2 = bin(int(Max_pool[i][j]))[2:].zfill(13)\n",
        "    output2 = output2 + str(data2) + '\\n'\n",
        "\n",
        "f=open(\"layer1_golden.dat\",\"w\")\n",
        "f.write(output2)\n",
        "f.close()\n",
        "\n"
      ]
    }
  ],
  "metadata": {
    "colab": {
      "provenance": []
    },
    "kernelspec": {
      "display_name": "Python 3",
      "name": "python3"
    },
    "language_info": {
      "name": "python"
    }
  },
  "nbformat": 4,
  "nbformat_minor": 0
}